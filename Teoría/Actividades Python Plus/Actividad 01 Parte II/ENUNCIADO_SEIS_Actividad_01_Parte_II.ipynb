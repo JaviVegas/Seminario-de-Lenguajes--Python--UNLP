{
 "cells": [
  {
   "cell_type": "markdown",
   "id": "b015a19f",
   "metadata": {},
   "source": [
    "# Actividad 1  por Python plus - Parte I \n",
    "\n",
    "## Resolvé el siguiente desafío:"
   ]
  },
  {
   "cell_type": "markdown",
   "id": "9c99b09e",
   "metadata": {},
   "source": [
    "**EJERCICIO 6:** dado el archivo denominado [log_catedras](https://archivos.linti.unlp.edu.ar/index.php/s/ofgZh41dUYMYX6H) que contiene  el registro de  accesos al entorno catedras.linti, se desea:\n",
    "1. Generar una función que retorne qué usuarios registran accesos el día 2 de abril y en qué horarios lo hicieron. Esta función recibe un parámetro opcional que indica si se incluyen todos los accesos en ese día o sólo el primero.  Por defecto la función solo incluye el horario del primer acceso. \n",
    "2. Escribir un programa que, utilizando la función anterior, muestre un listado similar al siguiente:\n",
    " \n",
    "```\n",
    "----------------------------\n",
    "Usuario en el sistema   Hora\n",
    "----------------------------\n",
    "Butterfree         08:41:47\n",
    "Pikachu            08:41:47\n",
    "Oddish             08:41:47\n",
    "Kingler            08:41:47\n",
    "Tauros             08:41:47\n",
    "```"
   ]
  },
  {
   "cell_type": "code",
   "execution_count": 1,
   "id": "5021bb7c",
   "metadata": {},
   "outputs": [
    {
     "name": "stdout",
     "output_type": "stream",
     "text": [
      "----------------------------\n",
      "Usuario en el sistema   Hora\n",
      "----------------------------\n",
      "Pidgeotto             23:37:34\n",
      "Fearow             23:37:34\n",
      "Raticate             22:25:50\n",
      "Omastar             21:32:33\n",
      "Voltorb             21:12:18\n",
      "Rhyhorn             21:07:09\n",
      "Geodude             20:45:53\n",
      "Kadabra             19:52:57\n",
      "Ponyta             19:25:42\n",
      "Bellsprout             19:13:11\n",
      "Ditto             19:10:47\n",
      "Kingler             17:42:16\n",
      "Mr. Mime             17:33:50\n",
      "Machamp             17:29:41\n",
      "Lickitung             17:07:24\n",
      "Nidoking             16:52:16\n",
      "Scyther             16:34:00\n",
      "Dugtrio             15:48:39\n",
      "Hitmonlee             14:52:01\n",
      "Carbink             14:39:13\n",
      "Machoke             13:35:29\n",
      "Poliwag             12:09:28\n",
      "Rattata             10:34:37\n",
      "Growlithe             10:23:59\n",
      "Clefable             08:15:21\n",
      "Oddish             04:14:46\n"
     ]
    }
   ],
   "source": [
    "#Solución Luciano Equiel Wagner\n",
    "import csv\n",
    "def actividad (accesos ='primero'):\n",
    "    lista_dicc=[]\n",
    "    dicc=[]\n",
    "    with open ('log_catedras.csv','r',encoding='UTF-8') as f:\n",
    "        csv_lectura= csv.DictReader(f)\n",
    "        for linea in csv_lectura:\n",
    "            if (linea['Hora'].startswith('2/04/23')):\n",
    "              if (accesos == 'primero'): #asumo del enunciado que si accesos es igual a primero, solo se pondra en la lista de diccionarios su primer acceso correspondiente al usuario, en caso contrario se agregaran todos sus accesos en ese dia\n",
    "                encontre= False\n",
    "                if (len(lista_dicc)==0):\n",
    "                   lista_dicc.append({linea['Nombre completo del usuario']:linea['Hora'][9:]})\n",
    "                else:\n",
    "                  for elem in lista_dicc:\n",
    "                     if linea ['Nombre completo del usuario'] in elem:\n",
    "                        encontre=True\n",
    "                        break\n",
    "                  if (encontre == False):\n",
    "                    lista_dicc.append({linea['Nombre completo del usuario']:linea['Hora'][9:]})\n",
    "              elif (accesos=='segundo'):\n",
    "                lista_dicc.append({linea['Nombre completo del usuario']:linea['Hora'][9:]})\n",
    "    return lista_dicc\n",
    "\n",
    "lista_dicc_info=actividad() #indicar como parametro \"segundo\" para referirse a la segunda opcion, la cual implica incluir todos los accesos en ese dia\n",
    "print('''----------------------------\n",
    "Usuario en el sistema   Hora\n",
    "----------------------------''')\n",
    "for dicc in lista_dicc_info:\n",
    "  for elemento in dicc:\n",
    "    print(elemento,' ',' ',' ',' ',' ',' ',dicc[elemento])\n"
   ]
  }
 ],
 "metadata": {
  "kernelspec": {
   "display_name": "Python 3 (ipykernel)",
   "language": "python",
   "name": "python3"
  },
  "language_info": {
   "codemirror_mode": {
    "name": "ipython",
    "version": 3
   },
   "file_extension": ".py",
   "mimetype": "text/x-python",
   "name": "python",
   "nbconvert_exporter": "python",
   "pygments_lexer": "ipython3",
   "version": "3.11.3"
  }
 },
 "nbformat": 4,
 "nbformat_minor": 5
}
