{
 "cells": [
  {
   "cell_type": "markdown",
   "id": "b015a19f",
   "metadata": {},
   "source": [
    "# Actividad 1  por Python plus - Parte I \n",
    "\n",
    "## Resolvé el siguiente desafío:"
   ]
  },
  {
   "cell_type": "markdown",
   "id": "84be84f3",
   "metadata": {},
   "source": [
    "**EJERCICIO 10:** dado el archivo denominado [log_catedras](https://archivos.linti.unlp.edu.ar/index.php/s/ofgZh41dUYMYX6H) que contiene  el registro de  accesos al entorno catedras.linti, se desea:\n",
    "1. Generar una función que retorne la actividad de un usuario dado como parámetro. Esta función recibe un parámetro  opcional que indica: \"TODO\" para retornar la información completa, \"EXPLICACION\",  solo los accesos relacionados a las explicaciones de práctica (chequear si en la columna \"Contexto del evento\" aparece el texto  \"BigBlueButton: Sala de VC de explicaciones de práctica\"), \"TEORIA\",  solo los accesos relacionados al material de clases la teoría (chequear si en la columna \"Contexto del evento\" aparece el texto \"Página: Material de las clases\"). Por defecto la función retorna toda la información. \n",
    "2. Escribir un programa que, utilizando la función anterior, muestre un listado similar al siguiente, donde sólo se muestra la información sobre fecha y hora de acceso, recurso accedido y dirección IP. Notar que la columna \"Recurso accedido\" no muestra todo el texto sino los primeros caracteres de modo que quede prolijo el listado.\n",
    " \n",
    "```\n",
    "Usuario: Hypno\n",
    "------------------------------------------------\n",
    "Dia/hora             Recurso accedido     Dir IP\n",
    "------------------------------------------------\n",
    "3/04/23, 09:22:22    BigBlueButton: Sala  190.19.24.34\n",
    "3/04/23, 19:22:22    Tarea: Entrega 2     190.19.24.34\n",
    "```"
   ]
  },
  {
   "cell_type": "code",
   "execution_count": 23,
   "id": "fae387e4",
   "metadata": {},
   "outputs": [],
   "source": [
    "import csv\n",
    "import os"
   ]
  },
  {
   "cell_type": "code",
   "execution_count": 24,
   "id": "54b563b2",
   "metadata": {
    "scrolled": true
   },
   "outputs": [],
   "source": [
    "ruta = os.path.abspath(\"\")\n",
    "ruta_completa = os.path.join(ruta, \"log_catedras.csv\")\n",
    "\n",
    "archivo = open(ruta_completa, \"r\")\n",
    "csvreader = csv.reader(archivo, delimiter = \",\")\n",
    "\n"
   ]
  },
  {
   "cell_type": "code",
   "execution_count": 25,
   "id": "5021bb7c",
   "metadata": {},
   "outputs": [],
   "source": [
    "def actividad(usuario, info = \"TODO\"):\n",
    "    listaActividad = []\n",
    "    \n",
    "    encabezado = next(csvreader)\n",
    "    \n",
    "    match info:\n",
    "        case \"TODO\":\n",
    "            for linea in csvreader:                \n",
    "                if linea[1] == usuario:                    \n",
    "                    listaActividad.append(linea)\n",
    "            \n",
    "        case \"EXPLICACION\":\n",
    "            for linea in csvreader:\n",
    "                if linea[3] == \"BigBlueButton: Sala de VC de explicaciones de práctica\":\n",
    "                    listaActividad.append(linea)\n",
    "            \n",
    "        case \"TEORIA\":\n",
    "            for linea in csvreader:\n",
    "                if linea[3] == \"Página: Material de las clases\":\n",
    "                    listaActividad.append(linea)\n",
    "    \n",
    "    archivo.close()\n",
    "    \n",
    "    return listaActividad\n",
    "            "
   ]
  },
  {
   "cell_type": "code",
   "execution_count": null,
   "id": "7adcb612",
   "metadata": {
    "scrolled": true
   },
   "outputs": [],
   "source": [
    "nombre = str(input(\"Ingrese el nombre de usuario para ver su actividad: \"))\n",
    "tipoInfo = str(input(\"Ingrese:\\n 'TODO' para la informacion completa del usuario.\\n 'EXPLICACION' para accesos a explicaciones de practica.\\n 'TEORIA' para accesos relacionados al material de teoria.\\n\"))\n",
    "listaAct = actividad(nombre, tipoInfo)\n",
    "\n",
    "print(f\"Usuario: {nombre}\")\n",
    "print(\"-\" * 48)\n",
    "print(\"Dia/hora\", \"\" * 11, \"Recurso accedido\", \"\" * 3, \"Dir IP\")\n",
    "print(\"-\" * 48)\n",
    "for linea in listaAct:\n",
    "    print(f\"{linea[0]}    {linea[3]}   {linea[6]}\")"
   ]
  },
  {
   "cell_type": "code",
   "execution_count": null,
   "id": "4e7f060b",
   "metadata": {},
   "outputs": [],
   "source": []
  }
 ],
 "metadata": {
  "kernelspec": {
   "display_name": "Python 3 (ipykernel)",
   "language": "python",
   "name": "python3"
  },
  "language_info": {
   "codemirror_mode": {
    "name": "ipython",
    "version": 3
   },
   "file_extension": ".py",
   "mimetype": "text/x-python",
   "name": "python",
   "nbconvert_exporter": "python",
   "pygments_lexer": "ipython3",
   "version": "3.10.2"
  }
 },
 "nbformat": 4,
 "nbformat_minor": 5
}
